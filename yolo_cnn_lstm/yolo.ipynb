{
 "cells": [
  {
   "cell_type": "markdown",
   "metadata": {},
   "source": [
    "# 1. Training the Yolo model"
   ]
  },
  {
   "cell_type": "code",
   "execution_count": null,
   "metadata": {},
   "outputs": [],
   "source": [
    "import ultralytics\n",
    "ultralytics.checks()"
   ]
  },
  {
   "cell_type": "code",
   "execution_count": 2,
   "metadata": {},
   "outputs": [],
   "source": [
    "from ultralytics import YOLO\n",
    "\n",
    "from IPython.display import display, Image"
   ]
  },
  {
   "cell_type": "code",
   "execution_count": null,
   "metadata": {},
   "outputs": [],
   "source": [
    "!yolo task=detect mode=train model=yolov8s.pt data=Violence.yaml epochs=50 imgsz=416 plots=True"
   ]
  },
  {
   "cell_type": "markdown",
   "metadata": {},
   "source": [
    "# 2. Using the YOLO model to filter violent clips"
   ]
  },
  {
   "cell_type": "code",
   "execution_count": null,
   "metadata": {},
   "outputs": [],
   "source": [
    "import cv2\n",
    "import os\n",
    "from ultralytics import YOLO\n",
    "\n",
    "# Load the trained YOLOv8 model\n",
    "model = YOLO('D:\\\\Yolo\\\\runs\\\\detect\\\\train\\\\weights\\\\best.pt')\n",
    "\n",
    "# Input video file path\n",
    "input_video_path = 'D:\\\\Yolo\\\\test\\\\videos'\n",
    "output_clip_path = 'D:\\\\Yolo\\\\test\\\\result'\n",
    "\n",
    "# Create the output folder (if it doesn't exist)\n",
    "os.makedirs(output_clip_path, exist_ok=True)\n",
    "\n",
    "# Get all video files\n",
    "video_files = [f for f in os.listdir(input_video_path) if f.endswith('.mp4')]\n",
    "\n",
    "for video_file in video_files:\n",
    "    cap = cv2.VideoCapture(os.path.join(input_video_path, video_file))\n",
    "    fps = cap.get(cv2.CAP_PROP_FPS)\n",
    "    frame_width = int(cap.get(cv2.CAP_PROP_FRAME_WIDTH))\n",
    "    frame_height = int(cap.get(cv2.CAP_PROP_FRAME_HEIGHT))\n",
    "\n",
    "    frame_count = 0\n",
    "    clip_number = 1\n",
    "    clip_frames = []\n",
    "    start_time = None\n",
    "    last_detection_time = None\n",
    "\n",
    "    while cap.isOpened():\n",
    "        ret, frame = cap.read()\n",
    "        if not ret:\n",
    "            break\n",
    "\n",
    "        # Perform object detection on the current frame\n",
    "        results = model(frame)\n",
    "\n",
    "        # Extract detection results\n",
    "        detections = results[0].boxes.data.cpu().numpy()\n",
    "        current_time = frame_count / fps\n",
    "        if len(detections) > 0:\n",
    "            # If an object is detected, save the current frame\n",
    "            clip_frames.append(frame)\n",
    "            if start_time is None:\n",
    "                start_time = current_time\n",
    "            last_detection_time = current_time\n",
    "        else:\n",
    "            # If no object is detected but the time interval is less than 2 seconds, save the current frame\n",
    "            if last_detection_time is not None and current_time - last_detection_time < 2:\n",
    "                clip_frames.append(frame)\n",
    "            else:\n",
    "                # If the time interval is greater than 2 seconds and there are accumulated frames, save these frames as a video clip\n",
    "                if len(clip_frames) > 0:\n",
    "                    end_time = current_time if last_detection_time is None else last_detection_time\n",
    "                    start_time_formatted = f'{int(start_time // 60):02d}_{int(start_time % 60):02d}'\n",
    "                    end_time_formatted = f'{int(end_time // 60):02d}_{int(end_time % 60):02d}'\n",
    "                    clip_output_path = os.path.join(output_clip_path, f'{os.path.splitext(video_file)[0]}_clip_{clip_number}_{start_time_formatted}_to_{end_time_formatted}.mp4')\n",
    "                    out = cv2.VideoWriter(clip_output_path, cv2.VideoWriter_fourcc(*'mp4v'), fps, (frame_width, frame_height))\n",
    "                    for clip_frame in clip_frames:\n",
    "                        out.write(clip_frame)\n",
    "                    out.release()\n",
    "                    clip_frames = []\n",
    "                    clip_number += 1\n",
    "                    start_time = None\n",
    "                    last_detection_time = None\n",
    "\n",
    "        frame_count += 1\n",
    "\n",
    "    # Process the remaining frames at the end of the video\n",
    "    if len(clip_frames) > 0:\n",
    "        end_time = current_time if last_detection_time is None else last_detection_time\n",
    "        start_time_formatted = f'{int(start_time // 60):02d}_{int(start_time % 60):02d}'\n",
    "        end_time_formatted = f'{int(end_time // 60):02d}_{int(end_time % 60):02d}'\n",
    "        clip_output_path = os.path.join(output_clip_path, f'{os.path.splitext(video_file)[0]}_clip_{clip_number}_{start_time_formatted}_to_{end_time_formatted}.mp4')\n",
    "        out = cv2.VideoWriter(clip_output_path, cv2.VideoWriter_fourcc(*'mp4v'), fps, (frame_width, frame_height))\n",
    "        for clip_frame in clip_frames:\n",
    "            out.write(clip_frame)\n",
    "        out.release()\n",
    "\n",
    "    cap.release()\n",
    "\n",
    "cv2.destroyAllWindows()\n",
    "\n"
   ]
  }
 ],
 "metadata": {
  "kernelspec": {
   "display_name": "VD",
   "language": "python",
   "name": "python3"
  },
  "language_info": {
   "codemirror_mode": {
    "name": "ipython",
    "version": 3
   },
   "file_extension": ".py",
   "mimetype": "text/x-python",
   "name": "python",
   "nbconvert_exporter": "python",
   "pygments_lexer": "ipython3",
   "version": "3.9.19"
  }
 },
 "nbformat": 4,
 "nbformat_minor": 2
}
